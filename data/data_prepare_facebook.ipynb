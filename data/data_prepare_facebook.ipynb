{
 "cells": [
  {
   "cell_type": "markdown",
   "metadata": {},
   "source": [
    "# Analyze and prepare the facebook dataset"
   ]
  },
  {
   "cell_type": "markdown",
   "metadata": {},
   "source": [
    "### 1. Import the libraries"
   ]
  },
  {
   "cell_type": "code",
   "execution_count": 2,
   "metadata": {},
   "outputs": [],
   "source": [
    "# This Source Code Form is subject to the terms of the MPL\n",
    "# License. If a copy of the same was not distributed with this\n",
    "# file, You can obtain one at\n",
    "# https://github.com/akhilpandey95/altpred/blob/master/LICENSE.\n",
    "\n",
    "import csv\n",
    "import glob\n",
    "import json\n",
    "import numpy as np\n",
    "from tqdm import tqdm\n",
    "import dask.dataframe as dd\n",
    "\n",
    "%matplotlib inline"
   ]
  },
  {
   "cell_type": "markdown",
   "metadata": {},
   "source": [
    "### 2. Read the data"
   ]
  },
  {
   "cell_type": "code",
   "execution_count": 3,
   "metadata": {},
   "outputs": [],
   "source": [
    "# read the directory\n",
    "path = '/media/hector/DATA/datalab-data/combined_file/keys/*/*.txt'\n",
    "final = '/media/hector/DATA/datalab-data/facebook_j2018_full.csv'\n",
    "\n",
    "# use glob to read all the files from the path\n",
    "files = glob.glob(path)"
   ]
  },
  {
   "cell_type": "markdown",
   "metadata": {},
   "source": [
    "### 3. Analyze the data"
   ]
  },
  {
   "cell_type": "markdown",
   "metadata": {},
   "source": [
    "#### 3.1 Print out the prospective column names for the `posts` category"
   ]
  },
  {
   "cell_type": "code",
   "execution_count": 4,
   "metadata": {},
   "outputs": [
    {
     "name": "stdout",
     "output_type": "stream",
     "text": [
      "Keys in the dict 'posts{facebook}' dict_keys(['license', 'title', 'url', 'author', 'summary', 'citation_ids', 'posted_on'])\n"
     ]
    }
   ],
   "source": [
    "## read a sample file\n",
    "f = open('/media/hector/DATA/datalab-data/combined_file/keys/100/10029320.txt').readlines()\n",
    "\n",
    "## check the keys in the dict\n",
    "d_1 = json.loads(f[29])\n",
    "\n",
    "## print the keys for facebook\n",
    "print(\"Keys in the dict 'posts{facebook}'\", d_1['posts']['facebook'][0].keys())"
   ]
  },
  {
   "cell_type": "markdown",
   "metadata": {},
   "source": [
    "### 4. Script for writing the data into a csv"
   ]
  },
  {
   "cell_type": "code",
   "execution_count": 5,
   "metadata": {},
   "outputs": [
    {
     "name": "stderr",
     "output_type": "stream",
     "text": [
      "100%|██████████| 380518/380518 [2:34:52<00:00, 40.95it/s]  \n"
     ]
    }
   ],
   "source": [
    "# write the file to a csv\n",
    "'''\n",
    "{\n",
    "  'license': 'public',\n",
    "  'title': 'Transfer of Methylprednisolone into Breast Milk in a Mother with Multiple Sclerosis',\n",
    "  'url': 'https://www.facebook.com/permalink.php?story_fbid=1027446043938962&id=508976565785915',\n",
    "  'author': {'url': 'https://www.facebook.com/508976565785915',\n",
    "   'facebook_wall_name': 'Journal of Human Lactation',\n",
    "   'image': 'https://graph.facebook.com/508976565785915/picture',\n",
    "   'id_on_source': '508976565785915',\n",
    "   'name': 'Journal of Human Lactation'},\n",
    "  'summary': 'New Papers OnlineFirst at JHL!\\n\\nCase Report\\n\\nTransfer of Methylprednisolone into Breast Milk in a Mother with Multiple Sclerosis\\n\\nBy Cooper et al.\\nhttp://jhl.sagepub.com/content/early/2015/02/12/0890334415570970.full\\n\\n\\nInsights in Policy\\n\\nHow Research on C',\n",
    "  'citation_ids': [3713571, 3713588],\n",
    "  'posted_on': '2015-02-18T23:00:01+00:00'\n",
    "}\n",
    "'''\n",
    "with open(final, 'w') as final_file:\n",
    "    datawriter = csv.writer(final_file, delimiter=',',quotechar='|', \n",
    "                            quoting=csv.QUOTE_MINIMAL)\n",
    "    datawriter.writerow(['altmetric_id', 'fb_post_title', 'fb_post_url',\n",
    "                         'fb_post_description', 'fb_post_date', 'fb_author_url',\n",
    "                         'fb_author_name', 'paper_title', 'paper_abstract', \n",
    "                         'paper_doi', 'paper_pubdate', 'paper_subjects', \n",
    "                         'paper_publisher_subjects', 'paper_scopus_subjects'])\n",
    "    \n",
    "    # the exception handling block\n",
    "    for file in tqdm(files):\n",
    "        try:\n",
    "            with open(file) as f:\n",
    "                for text_data in f.readlines():\n",
    "                    data = json.loads(text_data)\n",
    "                    if 'altmetric_id' in data:\n",
    "                        altmetric_id = data['altmetric_id']\n",
    "                        if 'posts' in data and len(data['posts']) > 0:\n",
    "                            if 'facebook' in data['posts'] and 'title' in data['posts']['facebook'] and isinstance(data['posts']['facebook']['title'], str):\n",
    "                                fb_post_title = data['posts']['facebook']['title']\n",
    "                            else:\n",
    "                                fb_post_title = ''\n",
    "                            if 'facebook' in data['posts'] and 'url' in data['posts']['facebook'] and isinstance(data['posts']['facebook']['url'], str):\n",
    "                                fb_post_url = data['posts']['facebook']['url']\n",
    "                            else:\n",
    "                                fb_post_url = ''\n",
    "                            if 'facebook' in data['posts'] and 'summary' in data['posts']['facebook'] and isinstance(data['posts']['facebook']['summary'], str):\n",
    "                                fb_post_description = data['posts']['facebook']['summary']\n",
    "                            else:\n",
    "                                fb_post_description = ''\n",
    "                            if 'facebook' in data['posts'] and 'posted_on' in data['posts']['facebook'] and isinstance(data['posts']['facebook']['posted_on'], str):\n",
    "                                fb_post_date = data['posts']['facebook']['posted_on']\n",
    "                            else:\n",
    "                                fb_post_date = ''\n",
    "                            if 'facebook' in data['posts'] and 'author' in data['posts']['facebook'] and 'url' in data['posts']['facebook']['author'] and isinstance(data['posts']['facebook']['author']['url'], str):\n",
    "                                fb_author_url = data['posts']['facebook']['author']['url']\n",
    "                            else:\n",
    "                                fb_author_url = ''\n",
    "                            if 'facebook' in data['posts'] and 'author' in data['posts']['facebook'] and 'name' in data['posts']['facebook']['author'] and isinstance(data['posts']['facebook']['author']['name'], str):\n",
    "                                fb_author_name = data['posts']['facebook']['author']['name']\n",
    "                            else:\n",
    "                                fb_author_name = ''\n",
    "                            if 'title' in data['citation'] and isinstance(data['citation']['title'], str):\n",
    "                                paper_title = data['citation']['title']\n",
    "                            else:\n",
    "                                paper_title = ''\n",
    "                            if 'abstract' in data['citation'] and isinstance(data['citation']['abstract'], str):\n",
    "                                paper_abstract = data['citation']['abstract']\n",
    "                            else:\n",
    "                                paper_abstract = ''\n",
    "                            if 'doi' in data['citation'] and isinstance(data['citation']['doi'], str):\n",
    "                                paper_doi = data['citation']['doi']\n",
    "                            else:\n",
    "                                paper_doi = ''\n",
    "                            if 'pubdate' in data['citation'] and isinstance(data['citation']['pubdate'], str):\n",
    "                                paper_pubdate = data['citation']['pubdate']\n",
    "                            else:\n",
    "                                paper_pubdate = ''\n",
    "                            if 'subjects' in data['citation'] and isinstance(data['citation']['subjects'], str):\n",
    "                                paper_subjects = data['citation']['subjects']\n",
    "                            else:\n",
    "                                paper_subjects = ''\n",
    "                            if 'publisher_subjects' in data['citation'] and isinstance(data['citation']['publisher_subjects'], str):\n",
    "                                paper_publisher_subjects = data['citation']['publisher_subjects']\n",
    "                            else:\n",
    "                                paper_publisher_subjects = ''\n",
    "                            if 'scopus_subjects' in data['citation'] and isinstance(data['citation']['scopus_subjects'], str):\n",
    "                                paper_scopus_subjects = data['citation']['scopus_subjects']\n",
    "                            else:\n",
    "                                paper_scopus_subjects = ''\n",
    "                            datawriter.writerow([altmetric_id, fb_post_title, fb_post_url,\n",
    "                         fb_post_description, fb_post_date, fb_author_url,\n",
    "                         fb_author_name, paper_title, paper_abstract, \n",
    "                         paper_doi, paper_pubdate, paper_subjects, \n",
    "                         paper_publisher_subjects, paper_scopus_subjects])\n",
    "        except IOError as exc:\n",
    "            if exc.errno != errno.EISDIR:\n",
    "                raise"
   ]
  }
 ],
 "metadata": {
  "kernelspec": {
   "display_name": "Python 3",
   "language": "python",
   "name": "python3"
  },
  "language_info": {
   "codemirror_mode": {
    "name": "ipython",
    "version": 3
   },
   "file_extension": ".py",
   "mimetype": "text/x-python",
   "name": "python",
   "nbconvert_exporter": "python",
   "pygments_lexer": "ipython3",
   "version": "3.6.5"
  }
 },
 "nbformat": 4,
 "nbformat_minor": 2
}
