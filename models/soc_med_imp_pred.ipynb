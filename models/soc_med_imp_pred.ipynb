{
 "cells": [
  {
   "cell_type": "markdown",
   "metadata": {},
   "source": [
    "# Predicting social media impact of scholarly articles "
   ]
  },
  {
   "cell_type": "markdown",
   "metadata": {},
   "source": [
    "### 1. Import the libraries"
   ]
  },
  {
   "cell_type": "code",
   "execution_count": 2,
   "metadata": {},
   "outputs": [],
   "source": [
    "# This Source Code Form is subject to the terms of the MPL\n",
    "# License. If a copy of the same was not distributed with this\n",
    "# file, You can obtain one at\n",
    "# https://github.com/akhilpandey95/altpred/blob/master/LICENSE.\n",
    "\n",
    "import os\n",
    "import random\n",
    "import string\n",
    "import spacy as sp\n",
    "import numpy as np\n",
    "import pandas as pd\n",
    "import seaborn as sns\n",
    "from tqdm import tqdm\n",
    "import tensorflow as tf\n",
    "import matplotlib.pyplot as plt\n",
    "from collections import defaultdict\n",
    "from matplotlib.pyplot import figure\n",
    "from sklearn.preprocessing import MinMaxScaler\n",
    "\n",
    "%matplotlib inline"
   ]
  },
  {
   "cell_type": "markdown",
   "metadata": {},
   "source": [
    "### 2. Read the data"
   ]
  },
  {
   "cell_type": "code",
   "execution_count": 5,
   "metadata": {},
   "outputs": [],
   "source": [
    "raw_data = pd.read_csv(\"../pubundsci/combined_dataset_charlie.csv\")\n",
    "raw_data = raw_data.sample(frac=0.01).reset_index(drop=True)\n",
    "raw_data = raw_data.sample(frac=1).reset_index(drop=True)"
   ]
  },
  {
   "cell_type": "code",
   "execution_count": 6,
   "metadata": {},
   "outputs": [
    {
     "data": {
      "text/plain": [
       "Index(['Unnamed: 0', 'altmetric_id', 'X.1', 'X', 'title', 'abstract',\n",
       "       'blog_post', 'similarity_score', 'yules_i_for_abs', 'yules_i_for_blg',\n",
       "       'avg_word_len_abs', 'avg_sen_len_abs',\n",
       "       'freq_of_words_great_sent_len_abs', 'avg_word_len_blg',\n",
       "       'avg_sen_len_blg', 'freq_of_words_great_sent_len_blg',\n",
       "       'bigrams_abs_blg', 'trigrams_abs_blg', 'mendeley_readers',\n",
       "       'citeulikereaders', 'connoteareaders', 'blog_users',\n",
       "       'blogs_posts_count', 'news_unique_users', 'total_posts_count',\n",
       "       'wiki_posts_count', 'facebook_users', 'facebook_posts', 'twitter_users',\n",
       "       'twitter_posts', 'citation_page', 'other_articles', 'mean', 'rank',\n",
       "       'perc', 'scored_higher_than', 'sample_size', 'users_lecturer',\n",
       "       'users_librarian', 'users_student_bachelor', 'users_student_master',\n",
       "       'users_student_pg', 'users_student_phd', 'users_student_doct',\n",
       "       'users_researcher', 'users_other', 'users_prof_assoc', 'users_prof',\n",
       "       'users_medi', 'users_ss', 'users_psych', 'users_earth', 'users_agri',\n",
       "       'users_arts', 'users_us', 'users_th', 'users_ie', 'users_id',\n",
       "       'users_au', 'users_gb', 'altmetric_score', 'altmetric_score_1y',\n",
       "       'altmetric_score_6m', 'altmetric_score_3m', 'altmetric_score_1m',\n",
       "       'altmetric_score_1w', 'altmetric_score_6d', 'altmetric_score_5d',\n",
       "       'altmetric_score_4d', 'altmetric_score_3d', 'altmetric_score_3d.1',\n",
       "       'altmetric_score_1d'],\n",
       "      dtype='object')"
      ]
     },
     "execution_count": 6,
     "metadata": {},
     "output_type": "execute_result"
    }
   ],
   "source": [
    "raw_data.columns"
   ]
  },
  {
   "cell_type": "code",
   "execution_count": null,
   "metadata": {},
   "outputs": [],
   "source": []
  }
 ],
 "metadata": {
  "kernelspec": {
   "display_name": "Python 3",
   "language": "python",
   "name": "python3"
  },
  "language_info": {
   "codemirror_mode": {
    "name": "ipython",
    "version": 3
   },
   "file_extension": ".py",
   "mimetype": "text/x-python",
   "name": "python",
   "nbconvert_exporter": "python",
   "pygments_lexer": "ipython3",
   "version": "3.6.5"
  }
 },
 "nbformat": 4,
 "nbformat_minor": 2
}
